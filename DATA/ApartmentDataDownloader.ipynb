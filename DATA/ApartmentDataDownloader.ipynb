{
 "cells": [
  {
   "cell_type": "code",
   "execution_count": 8,
   "id": "vertical-religious",
   "metadata": {},
   "outputs": [],
   "source": [
    "import urllib3\n",
    "from urllib.parse import urlencode\n",
    "import bs4\n",
    "from bs4 import BeautifulSoup\n",
    "import mysql.connector"
   ]
  },
  {
   "cell_type": "markdown",
   "id": "fluid-sheet",
   "metadata": {},
   "source": []
  },
  {
   "cell_type": "code",
   "execution_count": 9,
   "id": "liable-resistance",
   "metadata": {},
   "outputs": [],
   "source": [
    "URL = 'http://openapi.molit.go.kr/OpenAPI_ToolInstallPackage/service/rest/RTMSOBJSvc/getRTMSDataSvcAptTradeDev?serviceKey=b2AXFuhIJNJ13Rycl5fOfm3TLx3ouEbSlBwpAXEgNmZby%2FLAvMvOwdxDZCHiB2%2B34tNwOLcyMwqXA0Vs6mFvEA%3D%3D&pageNo=1&numOfRows=10000&'\n",
    "DISTRICT = [11680, 11740, 11305, 11500, 11620, 11215, 11530, 11545, 11350, 11320, 11230, 11590, 11440, 11410, 11650, 11200, 11290, 11710, 11470, 11560, 11170, 11380, 11110, 11140, 11260]\n",
    "\n",
    "def main():\n",
    "\n",
    "    mydb = mysql.connector.connect(\n",
    "      host=\"localhost\",\n",
    "      user=\"sungkyun\",\n",
    "      password=\"chung741\",\n",
    "      database=\"sungkyun\"\n",
    "    )\n",
    "    mycursor = mydb.cursor()\n",
    "\n",
    "    getData(mydb, mycursor)\n"
   ]
  },
  {
   "cell_type": "code",
   "execution_count": 10,
   "id": "widespread-multiple",
   "metadata": {
    "scrolled": true
   },
   "outputs": [],
   "source": [
    "def getData(mydb, mycursor):\n",
    "    count_limit = 0\n",
    "    http = urllib3.PoolManager()\n",
    "    for dist in DISTRICT:\n",
    "        for year in range(2021, 2022):\n",
    "            print(str(dist) + ':' + str(year))\n",
    "            for month in range(7, 8):\n",
    "                if month < 10:\n",
    "                    ymd = str(year) + '0' + str(month)\n",
    "                else:\n",
    "                    ymd = str(year) + str(month)\n",
    "                info = URL + 'LAWD_CD=' + str(dist) + '&DEAL_YMD=' + ymd\n",
    "                resp = http.request(\"GET\", info)\n",
    "                xml_obj = bs4.BeautifulSoup(resp.data,'lxml-xml')\n",
    "                insert(xml_obj, mydb, mycursor)\n",
    "        count_limit = count_limit + 1\n",
    "        if (count_limit >= 1000):\n",
    "            print(\"Exceeds maximum traffic: \" + count_limit)\n",
    "            print(\"current district / year / month: \" + str(dist) + \" / \" + str(year) + \" / \" + str(month))\n",
    "        "
   ]
  },
  {
   "cell_type": "code",
   "execution_count": 11,
   "id": "placed-fight",
   "metadata": {},
   "outputs": [],
   "source": [
    "def insert(resp, mydb, mycursor):\n",
    "    rows = []\n",
    "    for i in resp.findAll('item'):\n",
    "        try:\n",
    "            price = i.거래금액.text.replace(',', '')\n",
    "            built_years = i.건축년도.text\n",
    "            if int(i.월.text) < 10:\n",
    "                sold_date =  i.년.text+ '-0' + i.월.text\n",
    "            else:\n",
    "                sold_date =  i.년.text + '-' + i.월.text\n",
    "            if int(i.일.text) < 10:\n",
    "                sold_date = sold_date + '-0' + i.일.text\n",
    "            else:\n",
    "                sold_date = sold_date + '-' + i.일.text\n",
    "            street_adress = i.도로명.text\n",
    "            street_adress_code = i.도로명코드.text + i.도로명건물본번호코드.text\n",
    "            dong = i.법정동.text\n",
    "            dong_code = i.법정동시군구코드.text + i.법정동읍면동코드.text\n",
    "            name = i.아파트.text\n",
    "            size = i.전용면적.text\n",
    "            floor = i.층.text\n",
    "            rows.append((price, built_years, sold_date, street_adress, street_adress_code, dong, dong_code, name, size, floor)) \n",
    "        except:\n",
    "            print(\"Some attribute is missing\")    \n",
    "    sql = 'INSERT INTO apart_price_clone (price, built_years, sold_date, street_adress, street_adress_code, dong, dong_code, name, size, floor) VALUES (%s, %s, %s, %s, %s, %s, %s, %s, %s, %s)'\n",
    "    mycursor.executemany(sql, rows)\n",
    "    mydb.commit()\n",
    "    print(mycursor.rowcount, \"was inserted.\")\n",
    "    \n",
    "    "
   ]
  },
  {
   "cell_type": "code",
   "execution_count": 12,
   "id": "miniature-alias",
   "metadata": {
    "scrolled": true
   },
   "outputs": [
    {
     "name": "stdout",
     "output_type": "stream",
     "text": [
      "11680:2021\n",
      "17 was inserted.\n",
      "11740:2021\n",
      "18 was inserted.\n",
      "11305:2021\n",
      "15 was inserted.\n",
      "11500:2021\n",
      "33 was inserted.\n",
      "11620:2021\n",
      "12 was inserted.\n",
      "11215:2021\n",
      "3 was inserted.\n",
      "11530:2021\n",
      "32 was inserted.\n",
      "11545:2021\n",
      "21 was inserted.\n",
      "11350:2021\n",
      "50 was inserted.\n",
      "11320:2021\n",
      "22 was inserted.\n",
      "11230:2021\n",
      "22 was inserted.\n",
      "11590:2021\n",
      "20 was inserted.\n",
      "11440:2021\n",
      "13 was inserted.\n",
      "11410:2021\n",
      "20 was inserted.\n",
      "11650:2021\n",
      "16 was inserted.\n",
      "11200:2021\n",
      "8 was inserted.\n",
      "11290:2021\n",
      "29 was inserted.\n",
      "11710:2021\n",
      "26 was inserted.\n",
      "11470:2021\n",
      "18 was inserted.\n",
      "11560:2021\n",
      "18 was inserted.\n",
      "11170:2021\n",
      "2 was inserted.\n",
      "11380:2021\n",
      "19 was inserted.\n",
      "11110:2021\n",
      "4 was inserted.\n",
      "11140:2021\n",
      "4 was inserted.\n",
      "11260:2021\n",
      "13 was inserted.\n"
     ]
    }
   ],
   "source": [
    "main()"
   ]
  }
 ],
 "metadata": {
  "kernelspec": {
   "display_name": "Python 3",
   "language": "python",
   "name": "python3"
  },
  "language_info": {
   "codemirror_mode": {
    "name": "ipython",
    "version": 3
   },
   "file_extension": ".py",
   "mimetype": "text/x-python",
   "name": "python",
   "nbconvert_exporter": "python",
   "pygments_lexer": "ipython3",
   "version": "3.7.5"
  }
 },
 "nbformat": 4,
 "nbformat_minor": 5
}
