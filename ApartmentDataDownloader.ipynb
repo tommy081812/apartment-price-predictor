{
 "cells": [
  {
   "cell_type": "code",
   "execution_count": 23,
   "id": "manual-plaintiff",
   "metadata": {},
   "outputs": [],
   "source": [
    "import urllib3\n",
    "from urllib.parse import urlencode"
   ]
  },
  {
   "cell_type": "code",
   "execution_count": 17,
   "id": "acquired-reporter",
   "metadata": {},
   "outputs": [
    {
     "ename": "NameError",
     "evalue": "name 'urlencode' is not defined",
     "output_type": "error",
     "traceback": [
      "\u001b[0;31m---------------------------------------------------------------------------\u001b[0m",
      "\u001b[0;31mNameError\u001b[0m                                 Traceback (most recent call last)",
      "\u001b[0;32m<ipython-input-17-920ac5cd2bd5>\u001b[0m in \u001b[0;36m<module>\u001b[0;34m\u001b[0m\n\u001b[1;32m      1\u001b[0m \u001b[0murl\u001b[0m \u001b[0;34m=\u001b[0m \u001b[0;34m'http://openapi.molit.go.kr:8081/OpenAPI_ToolInstallPackage/service/rest/RTMSOBJSvc/getRTMSDataSvcAptTrade'\u001b[0m\u001b[0;34m\u001b[0m\u001b[0;34m\u001b[0m\u001b[0m\n\u001b[0;32m----> 2\u001b[0;31m \u001b[0mqueryParams\u001b[0m \u001b[0;34m=\u001b[0m \u001b[0;34m'?'\u001b[0m \u001b[0;34m+\u001b[0m \u001b[0murlencode\u001b[0m\u001b[0;34m(\u001b[0m\u001b[0;34m{\u001b[0m \u001b[0mquote_plus\u001b[0m\u001b[0;34m(\u001b[0m\u001b[0;34m'ServiceKey'\u001b[0m\u001b[0;34m)\u001b[0m \u001b[0;34m:\u001b[0m \u001b[0;34m'서비스키'\u001b[0m\u001b[0;34m,\u001b[0m \u001b[0mquote_plus\u001b[0m\u001b[0;34m(\u001b[0m\u001b[0;34m'LAWD_CD'\u001b[0m\u001b[0;34m)\u001b[0m \u001b[0;34m:\u001b[0m \u001b[0;34m'11110'\u001b[0m\u001b[0;34m,\u001b[0m \u001b[0mquote_plus\u001b[0m\u001b[0;34m(\u001b[0m\u001b[0;34m'DEAL_YMD'\u001b[0m\u001b[0;34m)\u001b[0m \u001b[0;34m:\u001b[0m \u001b[0;34m'201512'\u001b[0m \u001b[0;34m}\u001b[0m\u001b[0;34m)\u001b[0m\u001b[0;34m\u001b[0m\u001b[0;34m\u001b[0m\u001b[0m\n\u001b[0m\u001b[1;32m      3\u001b[0m \u001b[0;34m\u001b[0m\u001b[0m\n\u001b[1;32m      4\u001b[0m \u001b[0mrequest\u001b[0m \u001b[0;34m=\u001b[0m \u001b[0mRequest\u001b[0m\u001b[0;34m(\u001b[0m\u001b[0murl\u001b[0m \u001b[0;34m+\u001b[0m \u001b[0mqueryParams\u001b[0m\u001b[0;34m)\u001b[0m\u001b[0;34m\u001b[0m\u001b[0;34m\u001b[0m\u001b[0m\n\u001b[1;32m      5\u001b[0m \u001b[0mrequest\u001b[0m\u001b[0;34m.\u001b[0m\u001b[0mget_method\u001b[0m \u001b[0;34m=\u001b[0m \u001b[0;32mlambda\u001b[0m\u001b[0;34m:\u001b[0m \u001b[0;34m'GET'\u001b[0m\u001b[0;34m\u001b[0m\u001b[0;34m\u001b[0m\u001b[0m\n",
      "\u001b[0;31mNameError\u001b[0m: name 'urlencode' is not defined"
     ]
    }
   ],
   "source": [
    "url = 'http://openapi.molit.go.kr:8081/OpenAPI_ToolInstallPackage/service/rest/RTMSOBJSvc/getRTMSDataSvcAptTrade'\n",
    "queryParams = '?' + urlencode({ quote_plus('ServiceKey') : '서비스키', quote_plus('LAWD_CD') : '11110', quote_plus('DEAL_YMD') : '201512' })\n",
    "\n",
    "request = Request(url + queryParams)\n",
    "request.get_method = lambda: 'GET'\n",
    "response_body = urlopen(request).read()\n",
    "print(response_body)"
   ]
  },
  {
   "cell_type": "code",
   "execution_count": 62,
   "id": "piano-speaker",
   "metadata": {},
   "outputs": [
    {
     "name": "stdout",
     "output_type": "stream",
     "text": [
      "b'<?xml version=\"1.0\" encoding=\"UTF-8\" standalone=\"yes\"?><response><header><resultCode>99</resultCode><resultMsg>SERVICE KEY IS NOT REGISTERED ERROR.</resultMsg></header></response>'\n"
     ]
    }
   ],
   "source": [
    "url = 'http://openapi.molit.go.kr:8081/OpenAPI_ToolInstallPackage/service/rest/RTMSOBJSvc/getRTMSDataSvcAptTrade'\n",
    "headers={'ServiceKey': 'b2AXFuhIJNJ13Rycl5fOfm3TLx3ouEbSlBwpAXEgNmZby/LAvMvOwdxDZCHiB2+34tNwOLcyMwqXA0Vs6mFvEA==', 'LAWD_CD': '11110', 'DEAL_YMD': '201512'}\n",
    "http = urllib3.PoolManager()\n",
    "resp = http.request(\"GET\", url, headers=headers)\n",
    "print(resp.data)"
   ]
  },
  {
   "cell_type": "code",
   "execution_count": 63,
   "id": "funky-ordinary",
   "metadata": {},
   "outputs": [
    {
     "name": "stdout",
     "output_type": "stream",
     "text": [
      "b'<?xml version=\"1.0\" encoding=\"UTF-8\" standalone=\"yes\"?><response><header><resultCode>99</resultCode><resultMsg>SERVICE KEY IS NOT REGISTERED ERROR.</resultMsg></header></response>'\n"
     ]
    }
   ],
   "source": [
    "url = 'http://openapi.molit.go.kr:8081/OpenAPI_ToolInstallPackage/service/rest/RTMSOBJSvc/getRTMSDataSvcAptTrade'\n",
    "headers={'ServiceKey': 'b2AXFuhIJNJ13Rycl5fOfm3TLx3ouEbSlBwpAXEgNmZby%2FLAvMvOwdxDZCHiB2%2B34tNwOLcyMwqXA0Vs6mFvEA%3D%3D', 'LAWD_CD': '11110', 'DEAL_YMD': '201512'}\n",
    "http = urllib3.PoolManager()\n",
    "resp = http.request(\"GET\", url, headers=headers)\n",
    "print(resp.data)"
   ]
  },
  {
   "cell_type": "code",
   "execution_count": 51,
   "id": "dangerous-egypt",
   "metadata": {},
   "outputs": [],
   "source": [
    "# Importing the required libraries\n",
    "import xml.etree.ElementTree as Xet\n",
    "import pandas as pd"
   ]
  },
  {
   "cell_type": "code",
   "execution_count": null,
   "id": "laden-donna",
   "metadata": {},
   "outputs": [],
   "source": [
    "cols = [\"price\", \"built_years\", \"sold_date\", \"street_adress\", \"dong\", \"name\", \"size\", \"floor\"]\n",
    "rows = []\n",
    "  \n",
    "# Parsing the XML file\n",
    "xmlparse = Xet.parse('sample.xml')\n",
    "root = xmlparse.getroot()\n",
    "for i in root:\n",
    "    price = i.find(\"거래금액\").text\n",
    "    built_years = i.find(\"건축년도\").text\n",
    "    sold_date = i.find(\"년\").text + i.find(\"월\").text + i.find(\"일\").text\n",
    "    street_adress = i.find(\"도로명\").text\n",
    "    dong = i.find(\"법정동\").text\n",
    "    name = i.find(\"아파트\").text\n",
    "    size = i.find(\"전용면적\").text\n",
    "    floor = i.find(\"층\").text\n",
    "  \n",
    "    rows.append({\"price\": price, \"built_years\": built_years, \"sold_date\": sold_date, \"street_adress\": street_adress\n",
    "                 , \"dong\": dong, \"name\": name, \"size\": size, \"floor\": floor})\n",
    "  \n",
    "df = pd.DataFrame(rows, columns=cols)\n",
    "  \n",
    "# Writing dataframe to csv\n",
    "df.to_csv('output.csv')"
   ]
  },
  {
   "cell_type": "code",
   "execution_count": null,
   "id": "piano-principal",
   "metadata": {},
   "outputs": [],
   "source": []
  }
 ],
 "metadata": {
  "kernelspec": {
   "display_name": "Python 3",
   "language": "python",
   "name": "python3"
  },
  "language_info": {
   "codemirror_mode": {
    "name": "ipython",
    "version": 3
   },
   "file_extension": ".py",
   "mimetype": "text/x-python",
   "name": "python",
   "nbconvert_exporter": "python",
   "pygments_lexer": "ipython3",
   "version": "3.7.5"
  }
 },
 "nbformat": 4,
 "nbformat_minor": 5
}
